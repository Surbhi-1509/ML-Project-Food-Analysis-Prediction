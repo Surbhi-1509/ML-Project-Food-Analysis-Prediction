{
  "cells": [
    {
      "cell_type": "markdown",
      "id": "0725bf03-95b3-4cb7-adf7-c3fcffe17db3",
      "metadata": {
        "id": "0725bf03-95b3-4cb7-adf7-c3fcffe17db3"
      },
      "source": [
        "\n",
        "## Problem Statement:\n",
        "FoodHub Data Analysis and Prediction\n",
        "## Business Context:\n",
        "The number of restaurants in New York is increasing day by day. Lots of students and busy professionals rely on those restaurants due to their hectic lifestyles. Online food delivery service is a great option for them. It provides them with good food from their favorite restaurants. A food aggregator company FoodHub offers access to multiple restaurants through a single smartphone app.\n",
        "\n",
        "The app allows the restaurants to receive a direct online order from a customer. The app assigns a delivery person from the company to pick up the order after it is confirmed by the restaurant. The delivery person then uses the map to reach the restaurant and waits for the food package. Once the food package is handed over to the delivery person, he/she confirms the pick-up in the app and travels to the customer's location to deliver the food. The delivery person confirms the drop-off in the app after delivering the food package to the customer. The customer can rate the order in the app. The food aggregator earns money by collecting a fixed margin of the delivery order from the restaurants.\n",
        "## Project Objective:\n",
        "The food aggregator company has stored the data of the different orders made by the registered customers in their online portal. They want to analyze the data to get a fair idea about the demand of different restaurants which will help them in enhancing their customer experience.\n",
        "\n",
        "1. Exploratory Data Analysis (EDA): Analyze the structure, distribution, and relationships in the dataset.\n",
        "Handle Data Quality Issues: Clean missing values, detect and treat outliers, and transform features for better analysis.\n",
        "\n",
        "2. Classification Task (Binary Classification):Classify data points into meaningful categories to support decision-making. Example:\n",
        "Order Status Classification: Predict if an order will be \"on-time\", \"late\", or \"delayed\".\n",
        "\n",
        "3. Regression Task (Predictive Modeling):Predict future outcomes based on historical data. Example:\n",
        "Sales Forecasting: Predict the total value of a customer's order.\n",
        "\n",
        "4. Model Evaluation\n",
        "\n",
        "5. Model Deployment\n"
      ]
    },
    {
      "cell_type": "markdown",
      "id": "31b91a4f-8d6b-4949-9d7c-971c17ccb3a5",
      "metadata": {
        "id": "31b91a4f-8d6b-4949-9d7c-971c17ccb3a5"
      },
      "source": [
        "#### Importing the necessary libraries"
      ]
    },
    {
      "cell_type": "code",
      "execution_count": null,
      "id": "b7a5be9e-1ff9-4e5d-ac6e-4ad3378c1af1",
      "metadata": {
        "id": "b7a5be9e-1ff9-4e5d-ac6e-4ad3378c1af1"
      },
      "outputs": [],
      "source": [
        "import numpy as np\n",
        "import pandas as pd\n",
        "import seaborn as sns\n",
        "import matplotlib.pyplot as plt\n"
      ]
    },
    {
      "cell_type": "markdown",
      "id": "0df47f28-33bd-4d55-ab3c-9eeddc6bb1c1",
      "metadata": {
        "id": "0df47f28-33bd-4d55-ab3c-9eeddc6bb1c1"
      },
      "source": [
        "#### Loading the dataset"
      ]
    },
    {
      "cell_type": "code",
      "execution_count": null,
      "id": "4854717a-9089-46ed-8623-21cd5aa82da0",
      "metadata": {
        "id": "4854717a-9089-46ed-8623-21cd5aa82da0"
      },
      "outputs": [],
      "source": [
        "df = pd.read_csv('/content/2-foodhub_order_New.csv')"
      ]
    },
    {
      "cell_type": "markdown",
      "id": "5d34749d-296c-46aa-9e14-8a580ecbfed3",
      "metadata": {
        "id": "5d34749d-296c-46aa-9e14-8a580ecbfed3"
      },
      "source": [
        "## 1- Basic Exploration of data\n",
        "* 1.1 Checking the top 5 rows\n",
        "* 1.2 Checking the shape of dataset\n",
        "* 1.3 Checking the info of dataset\n",
        "* 1.4 Checking the Statistical summary"
      ]
    },
    {
      "cell_type": "markdown",
      "id": "57ada6d8-89ca-4247-ac01-746885a7f3df",
      "metadata": {
        "id": "57ada6d8-89ca-4247-ac01-746885a7f3df"
      },
      "source": [
        "#### 1.1 Checking the top 5 rows"
      ]
    },
    {
      "cell_type": "code",
      "execution_count": null,
      "id": "f7931527-2e38-4011-bda0-50dc9b02ee49",
      "metadata": {
        "id": "f7931527-2e38-4011-bda0-50dc9b02ee49"
      },
      "outputs": [],
      "source": [
        "df.head()"
      ]
    },
    {
      "cell_type": "markdown",
      "id": "de72de4d-5676-45a4-b6df-667b3fccbfd6",
      "metadata": {
        "id": "de72de4d-5676-45a4-b6df-667b3fccbfd6"
      },
      "source": [
        "###### Observations:\n",
        "1. There are some values in rating which are required to be given.\n",
        "2. In the feature delivery_time, we are having wrong entries like \"?\"."
      ]
    },
    {
      "cell_type": "markdown",
      "id": "36b49c81-a0a4-4bf9-bf77-a2f4793315b3",
      "metadata": {
        "id": "36b49c81-a0a4-4bf9-bf77-a2f4793315b3"
      },
      "source": [
        "#### 1.2 Checking the shape (no.of rows and columns in dataset)"
      ]
    },
    {
      "cell_type": "code",
      "execution_count": null,
      "id": "ada25353-9163-422f-a2af-da797633448f",
      "metadata": {
        "id": "ada25353-9163-422f-a2af-da797633448f"
      },
      "outputs": [],
      "source": [
        "df.shape"
      ]
    },
    {
      "cell_type": "code",
      "execution_count": null,
      "id": "tqo3GDHKwGCj",
      "metadata": {
        "id": "tqo3GDHKwGCj"
      },
      "outputs": [],
      "source": [
        "df.columns"
      ]
    },
    {
      "cell_type": "markdown",
      "id": "786ba258-5e85-40bb-8680-1587ff8fcaad",
      "metadata": {
        "id": "786ba258-5e85-40bb-8680-1587ff8fcaad"
      },
      "source": [
        "###### Result:\n",
        "There are **1898** rows and **9** columns in dataset"
      ]
    },
    {
      "cell_type": "markdown",
      "id": "67b6df64-4081-4ec9-9c77-7a80c9af05b4",
      "metadata": {
        "id": "67b6df64-4081-4ec9-9c77-7a80c9af05b4"
      },
      "source": [
        "#### 1.3 Checking the info of dataset"
      ]
    },
    {
      "cell_type": "code",
      "execution_count": null,
      "id": "3fde8808-6512-4dc9-a878-fbe465e0fa3e",
      "metadata": {
        "id": "3fde8808-6512-4dc9-a878-fbe465e0fa3e"
      },
      "outputs": [],
      "source": [
        "df.info()"
      ]
    },
    {
      "cell_type": "code",
      "execution_count": null,
      "id": "Ou2RDStAkRfq",
      "metadata": {
        "id": "Ou2RDStAkRfq"
      },
      "outputs": [],
      "source": [
        "df[df['cost_of_the_order']>40]"
      ]
    },
    {
      "cell_type": "markdown",
      "id": "f6cc9e2a-fab7-4bd3-8791-7ae32a19021b",
      "metadata": {
        "id": "f6cc9e2a-fab7-4bd3-8791-7ae32a19021b"
      },
      "source": [
        "#### 1.4 Statistical summary"
      ]
    },
    {
      "cell_type": "code",
      "execution_count": null,
      "id": "Pi8nNCL7ob08",
      "metadata": {
        "id": "Pi8nNCL7ob08"
      },
      "outputs": [],
      "source": [
        "df.describe()"
      ]
    },
    {
      "cell_type": "markdown",
      "id": "d4VXpCHUr2I8",
      "metadata": {
        "id": "d4VXpCHUr2I8"
      },
      "source": [
        "#### Observations:\n",
        "* 1 - We need to check the record where cost_of_the_order is 121920.\n",
        "* 2 - There are some missing values in food_preperation_time."
      ]
    },
    {
      "cell_type": "markdown",
      "id": "4d99fc32",
      "metadata": {
        "id": "4d99fc32"
      },
      "source": [
        "## 2-Exploratory Data Analysis (EDA)\n",
        "* 2.1 Checking the duplicate rows and fetching them\n",
        "* 2.2 Checking Null Values (columnwise, percentage wise in columns and row-wise\n",
        "* 2.3 Outliers Analysis\n",
        "* 2.4 Univariate Analysis\n",
        "* 2.5 Bivariate Analysis"
      ]
    },
    {
      "cell_type": "markdown",
      "id": "642f3543-cdf0-46c8-948a-03357446ab7f",
      "metadata": {
        "id": "642f3543-cdf0-46c8-948a-03357446ab7f"
      },
      "source": [
        "#### 2.1 Checking the duplicate rows"
      ]
    },
    {
      "cell_type": "code",
      "execution_count": null,
      "id": "367bc6a6-9c30-4c75-b4f8-471923ea6da4",
      "metadata": {
        "id": "367bc6a6-9c30-4c75-b4f8-471923ea6da4"
      },
      "outputs": [],
      "source": [
        "# total number of duplicate rows\n",
        "df.duplicated().sum()"
      ]
    },
    {
      "cell_type": "markdown",
      "source": [
        "* Observation\n",
        "\n",
        "  There are no duplicate values.\n"
      ],
      "metadata": {
        "id": "ujs4Tu4VmaI3"
      },
      "id": "ujs4Tu4VmaI3"
    },
    {
      "cell_type": "code",
      "execution_count": null,
      "id": "468ae0e0-ffb0-4cbe-b402-12f390d57d9e",
      "metadata": {
        "id": "468ae0e0-ffb0-4cbe-b402-12f390d57d9e"
      },
      "outputs": [],
      "source": [
        "# Fetching duplicate rows\n",
        "df[df.duplicated()]"
      ]
    },
    {
      "cell_type": "markdown",
      "id": "d0803119-9bb6-45a7-8958-fd21f79cb5b7",
      "metadata": {
        "id": "d0803119-9bb6-45a7-8958-fd21f79cb5b7"
      },
      "source": [
        "### 2.2 Checking Null Values"
      ]
    },
    {
      "cell_type": "code",
      "execution_count": null,
      "id": "107ce687-b683-4aeb-bad2-758c8bd9c32c",
      "metadata": {
        "id": "107ce687-b683-4aeb-bad2-758c8bd9c32c"
      },
      "outputs": [],
      "source": [
        "# Column-wise null values\n",
        "df.isnull().sum()"
      ]
    },
    {
      "cell_type": "markdown",
      "source": [
        "##Observation\n",
        "###Total Columns with Missing Data: 2 columns\n",
        "\n",
        "####1- cuisine_type: 3 missing values.\n",
        "\n",
        "####2- food_preparation_time: 2 missing values."
      ],
      "metadata": {
        "id": "24QYg2Ymm0Xu"
      },
      "id": "24QYg2Ymm0Xu"
    },
    {
      "cell_type": "code",
      "execution_count": null,
      "id": "17970cb4-2075-4d88-8147-e6b9bb7d3d9c",
      "metadata": {
        "id": "17970cb4-2075-4d88-8147-e6b9bb7d3d9c"
      },
      "outputs": [],
      "source": [
        "# Percentage wise null values in columns\n",
        "df.isnull().sum()/len(df)*100"
      ]
    },
    {
      "cell_type": "code",
      "execution_count": null,
      "id": "a76374a7-78de-4893-bd63-96bf99ff34a3",
      "metadata": {
        "id": "a76374a7-78de-4893-bd63-96bf99ff34a3"
      },
      "outputs": [],
      "source": [
        "# row-wise null values\n",
        "df.isnull().sum(axis=1).sort_values(ascending=False)"
      ]
    },
    {
      "cell_type": "code",
      "execution_count": null,
      "id": "JYzb9jjWtxEw",
      "metadata": {
        "id": "JYzb9jjWtxEw"
      },
      "outputs": [],
      "source": [
        "df['rating'].value_counts()"
      ]
    },
    {
      "cell_type": "markdown",
      "id": "aa1b46c9-3b85-4b02-8f69-093870006fc3",
      "metadata": {
        "id": "aa1b46c9-3b85-4b02-8f69-093870006fc3"
      },
      "source": [
        "###### Results:\n",
        "\n",
        "* Out of the 1898 orders, 736 do not have a rating.\n",
        "\n"
      ]
    },
    {
      "cell_type": "markdown",
      "id": "40759a61-a303-486e-b6c8-28a0b8510173",
      "metadata": {
        "id": "40759a61-a303-486e-b6c8-28a0b8510173"
      },
      "source": [
        "### 2.3 Outliers Analysis\n",
        "* 2.3.1 Visualizing outliers\n",
        "* 2.3.2 Finding the no. of outliers in each column"
      ]
    },
    {
      "cell_type": "code",
      "execution_count": null,
      "id": "218fb6fb-161d-4606-ad72-777a39e1badb",
      "metadata": {
        "id": "218fb6fb-161d-4606-ad72-777a39e1badb"
      },
      "outputs": [],
      "source": [
        "# Fetching the datasets having categorical & Numerical variables seperately\n",
        "cat_variables= df.select_dtypes('object')\n",
        "num_variables= df.select_dtypes(['int','float'])"
      ]
    },
    {
      "cell_type": "markdown",
      "id": "d068aa4f-4a63-4b48-9789-bebd3d26b56d",
      "metadata": {
        "id": "d068aa4f-4a63-4b48-9789-bebd3d26b56d"
      },
      "source": [
        "### 2.3.1 Visualizing outliers"
      ]
    },
    {
      "cell_type": "code",
      "execution_count": null,
      "id": "oJQgG3RLlG4_",
      "metadata": {
        "id": "oJQgG3RLlG4_"
      },
      "outputs": [],
      "source": [
        "for i in cat_variables.columns:\n",
        "    plt.figure(figsize=(6,3))\n",
        "    sns.countplot(data=df, x=i)\n",
        "    plt.show()"
      ]
    },
    {
      "cell_type": "markdown",
      "source": [
        "##Observations\n",
        "1- A few restaurants dominate order volume, others have very few orders.\n",
        "\n",
        "2- American and Japanese cuisines are most ordered.\n",
        "\n",
        "3- Large number of orders have \"Not_given\" ratings.\n",
        "Among given ratings, 4 and 5 are most frequent.\n",
        "\n",
        "4- 'delivery_time' includes non-numeric values like \"?\"."
      ],
      "metadata": {
        "id": "lViv3LQ8pNnh"
      },
      "id": "lViv3LQ8pNnh"
    },
    {
      "cell_type": "code",
      "execution_count": null,
      "id": "f824985f-d8d4-4847-9e66-71f6daba67eb",
      "metadata": {
        "id": "f824985f-d8d4-4847-9e66-71f6daba67eb"
      },
      "outputs": [],
      "source": [
        "for i in num_variables:\n",
        "    plt.figure(figsize=(7,3))\n",
        "    sns.boxplot(data=df, x=i)"
      ]
    },
    {
      "cell_type": "markdown",
      "id": "25de68d9-c392-4d5a-80a3-c9c8b0b33474",
      "metadata": {
        "id": "25de68d9-c392-4d5a-80a3-c9c8b0b33474"
      },
      "source": [
        "### 2.3.2  Finding the no. of outliers in each column"
      ]
    },
    {
      "cell_type": "code",
      "execution_count": null,
      "id": "8d16f3dd-cc72-4245-8ef5-7127ad711797",
      "metadata": {
        "id": "8d16f3dd-cc72-4245-8ef5-7127ad711797"
      },
      "outputs": [],
      "source": [
        "for i in num_variables:\n",
        "    Q1= np.quantile(df[i],0.25)\n",
        "    Q3= np.quantile(df[i],0.75)\n",
        "    IQR= Q3-Q1\n",
        "    lower_limit= Q1- 1.5*IQR\n",
        "    upper_limit= Q3+ 1.5*IQR\n",
        "    print(\"Number of ouliers in \",i,\":\", len(df[df[i]>upper_limit]))\n",
        "    print('-----------------------')"
      ]
    },
    {
      "cell_type": "markdown",
      "source": [
        "###Observation\n",
        " * We have only one outlier in cost_of_the_order\n"
      ],
      "metadata": {
        "id": "6j4DzUFpprLF"
      },
      "id": "6j4DzUFpprLF"
    },
    {
      "cell_type": "markdown",
      "id": "1e98ea80-6505-4393-8bc4-39873731a97f",
      "metadata": {
        "id": "1e98ea80-6505-4393-8bc4-39873731a97f"
      },
      "source": [
        "### 2.4 Univariate Analysis"
      ]
    },
    {
      "cell_type": "markdown",
      "id": "tYSeoDn1uVoX",
      "metadata": {
        "id": "tYSeoDn1uVoX"
      },
      "source": [
        "##### 2.4.1. Categorical variables visual analysis:"
      ]
    },
    {
      "cell_type": "code",
      "execution_count": null,
      "id": "17c_pKbEuSMV",
      "metadata": {
        "id": "17c_pKbEuSMV"
      },
      "outputs": [],
      "source": [
        "df.head()"
      ]
    },
    {
      "cell_type": "code",
      "execution_count": null,
      "id": "Ppolo3AEue8K",
      "metadata": {
        "id": "Ppolo3AEue8K"
      },
      "outputs": [],
      "source": [
        "plt.figure(figsize=(5,2))\n",
        "sns.countplot(data=df, x='delivery_time')\n",
        "plt.title('Countplot of delivery_time')"
      ]
    },
    {
      "cell_type": "markdown",
      "source": [
        "##Visual analysis:"
      ],
      "metadata": {
        "id": "KaeckA4fqlsL"
      },
      "id": "KaeckA4fqlsL"
    },
    {
      "cell_type": "code",
      "execution_count": null,
      "id": "PvmJkePQwpaG",
      "metadata": {
        "id": "PvmJkePQwpaG"
      },
      "outputs": [],
      "source": [
        "for i in cat_variables.columns:\n",
        "    print(df[i].nunique())\n",
        "    print(df[i].value_counts())\n",
        "    print('-------------')"
      ]
    },
    {
      "cell_type": "markdown",
      "id": "a501d22b-9cc7-479c-b384-536258fbed05",
      "metadata": {
        "id": "a501d22b-9cc7-479c-b384-536258fbed05"
      },
      "source": [
        "### 2.4.3. Numerical variables analysis:"
      ]
    },
    {
      "cell_type": "code",
      "execution_count": null,
      "id": "OApm6Z-QSVk0",
      "metadata": {
        "id": "OApm6Z-QSVk0"
      },
      "outputs": [],
      "source": [
        "for i in num_variables:\n",
        "    plt.figure(figsize=(6,3))\n",
        "    sns.histplot(data=df,x=i);"
      ]
    },
    {
      "cell_type": "markdown",
      "id": "9q4YNwTa134j",
      "metadata": {
        "id": "9q4YNwTa134j"
      },
      "source": [
        "### 2.5 Bi-variate analysis\n",
        "* Since during model building we will be having \"Rating\" and \"delivery_time\" as our target variables so we will only do bi-variate analysis of these features only."
      ]
    },
    {
      "cell_type": "code",
      "execution_count": null,
      "id": "DaBcH3OxnUfH",
      "metadata": {
        "id": "DaBcH3OxnUfH"
      },
      "outputs": [],
      "source": [
        "for i in cat_variables.columns:\n",
        "    print(i)\n",
        "    print(df.groupby(i)['cost_of_the_order'].mean())\n",
        "    print('--------------------')"
      ]
    },
    {
      "cell_type": "code",
      "execution_count": null,
      "id": "2jIeIvJ9xwea",
      "metadata": {
        "id": "2jIeIvJ9xwea"
      },
      "outputs": [],
      "source": [
        "num_variables=df.select_dtypes(['int','float'])"
      ]
    },
    {
      "cell_type": "code",
      "execution_count": null,
      "id": "xMLEKIzVxyrT",
      "metadata": {
        "id": "xMLEKIzVxyrT"
      },
      "outputs": [],
      "source": [
        "plt.figure(figsize=(5,2))\n",
        "sns.pairplot(num_variables);"
      ]
    },
    {
      "cell_type": "code",
      "execution_count": null,
      "id": "kIQHsS__rypJ",
      "metadata": {
        "id": "kIQHsS__rypJ"
      },
      "outputs": [],
      "source": [
        "for i in cat_variables.columns:\n",
        "    plt.figure(figsize=(10, 5))\n",
        "    top_15 = df[i].value_counts().nlargest(15).index\n",
        "    df_top = df[df[i].isin(top_15)]\n",
        "    sns.barplot(data=df_top, x=i, y='delivery_time', errorbar=None, order=top_15)\n",
        "\n",
        "    plt.gca().invert_yaxis()\n",
        "\n",
        "    plt.xticks(rotation=45, ha='right')\n",
        "    plt.title(f\"{i} vs Delivery Time\")\n",
        "    plt.tight_layout()\n",
        "    plt.show()\n"
      ]
    },
    {
      "cell_type": "markdown",
      "id": "gyewV5o15m8L",
      "metadata": {
        "id": "gyewV5o15m8L"
      },
      "source": [
        "####  2.5.2. Relationship of  'delivery_time' with other numerical features\n",
        "* Few plots which we can use are:\n",
        "  * Pairplot\n",
        "  * Jointplot\n",
        "  * scatterplot"
      ]
    },
    {
      "cell_type": "code",
      "execution_count": null,
      "id": "fGDmRSqxUZRp",
      "metadata": {
        "id": "fGDmRSqxUZRp"
      },
      "outputs": [],
      "source": [
        "sns.barplot(data=df, x='rating',y='delivery_time');"
      ]
    },
    {
      "cell_type": "code",
      "execution_count": null,
      "id": "C4caFTEF5MZC",
      "metadata": {
        "id": "C4caFTEF5MZC"
      },
      "outputs": [],
      "source": [
        "for i in num_variables.columns:\n",
        "    plt.figure(figsize=(5,2))\n",
        "    sns.scatterplot(data=df, y='rating',x=i);"
      ]
    },
    {
      "cell_type": "markdown",
      "id": "ElSoqLvW6IIg",
      "metadata": {
        "id": "ElSoqLvW6IIg"
      },
      "source": [
        "### Checking the correlation with heatmap to check above observation"
      ]
    },
    {
      "cell_type": "code",
      "execution_count": null,
      "id": "HORHs8JQ5uIB",
      "metadata": {
        "id": "HORHs8JQ5uIB"
      },
      "outputs": [],
      "source": [
        "corr= num_variables.corr()\n",
        "plt.figure(figsize=(5,2))\n",
        "sns.heatmap(corr,annot=True);"
      ]
    },
    {
      "cell_type": "markdown",
      "id": "7G4jfu7c6w1k",
      "metadata": {
        "id": "7G4jfu7c6w1k"
      },
      "source": [
        "####  2.5.3 Relationship of 'delivery_time' with all other features\n",
        "* We can use following plots & tables :\n",
        "    * Countplot with hue\n",
        "    * crosstab\n",
        "    * df.plot.bar(stacked=True)"
      ]
    },
    {
      "cell_type": "markdown",
      "id": "Estj1dfp67EM",
      "metadata": {
        "id": "Estj1dfp67EM"
      },
      "source": [
        "### 2.5.3.1 Visual analysis of \"delivery_time\" with other categorical variables"
      ]
    },
    {
      "cell_type": "code",
      "execution_count": null,
      "id": "NSiYDvAR6nMr",
      "metadata": {
        "id": "NSiYDvAR6nMr"
      },
      "outputs": [],
      "source": [
        "for i in cat_variables.columns:\n",
        "    plt.figure(figsize=(10,5))\n",
        "    sns.countplot(data=df, x=i, hue='delivery_time');"
      ]
    },
    {
      "cell_type": "markdown",
      "id": "7b90aded",
      "metadata": {
        "id": "7b90aded"
      },
      "source": [
        "# 3- Data Cleaning & pre processing\n",
        "* 1.Dropping duplicate rows\n",
        "* 2.Replacing wrong entries\n",
        "* 3.Missing values imputation (SimpleImputer, fillna())\n",
        "* 4.Handle outliers (IQR, Z-score method)\n",
        "* 5.Encoding\n",
        "* 6.Data splitting\n",
        "* 7.Feature scaling: StandardScaler, MinMaxScaler\n",
        "* 8.Feature selection:Based on correlation, domain knowledge, or model-based methods\n"
      ]
    },
    {
      "cell_type": "code",
      "execution_count": null,
      "id": "c77d8ddd-f8ec-4233-81ce-9cac2f5f9733",
      "metadata": {
        "id": "c77d8ddd-f8ec-4233-81ce-9cac2f5f9733"
      },
      "outputs": [],
      "source": [
        "import numpy as np\n",
        "import pandas as pd\n",
        "import seaborn as sns\n",
        "import matplotlib.pyplot as plt"
      ]
    },
    {
      "cell_type": "code",
      "execution_count": null,
      "id": "BBfhuVNw8S2P",
      "metadata": {
        "id": "BBfhuVNw8S2P"
      },
      "outputs": [],
      "source": [
        "df=df.drop(['restaurant_name','order_id','customer_id'], axis=1)"
      ]
    },
    {
      "cell_type": "code",
      "source": [
        "df.head()"
      ],
      "metadata": {
        "id": "iZn3DpsZA0Fy"
      },
      "id": "iZn3DpsZA0Fy",
      "execution_count": null,
      "outputs": []
    },
    {
      "cell_type": "code",
      "execution_count": null,
      "id": "ffca7b09-d69a-495b-b01b-e625439866a8",
      "metadata": {
        "id": "ffca7b09-d69a-495b-b01b-e625439866a8"
      },
      "outputs": [],
      "source": [
        "df_copy= df.copy()\n",
        "cat_variables= df_copy.select_dtypes('object')\n",
        "num_variables= df_copy.select_dtypes(['int','float'])"
      ]
    },
    {
      "cell_type": "markdown",
      "id": "cef18286-c61e-4ec3-bdbe-dbcaeae6a733",
      "metadata": {
        "id": "cef18286-c61e-4ec3-bdbe-dbcaeae6a733"
      },
      "source": [
        "#### 3.1 Dropping duplicates"
      ]
    },
    {
      "cell_type": "code",
      "execution_count": null,
      "id": "c9d7feff-16bc-4fca-82d2-92c94777a399",
      "metadata": {
        "id": "c9d7feff-16bc-4fca-82d2-92c94777a399"
      },
      "outputs": [],
      "source": [
        "print(\" No. of rows before dropping duplicates :\", df_copy.shape[0])\n",
        "df_copy.drop_duplicates(inplace=True)\n",
        "print(\" No. of rows after dropping duplicates :\", df_copy.shape[0])"
      ]
    },
    {
      "cell_type": "markdown",
      "id": "qZcEAmCK7lwX",
      "metadata": {
        "id": "qZcEAmCK7lwX"
      },
      "source": [
        "#### 3.2 Replacing wrong entries"
      ]
    },
    {
      "cell_type": "markdown",
      "id": "xp6K3BNS7m-M",
      "metadata": {
        "id": "xp6K3BNS7m-M"
      },
      "source": [
        "##### 3.2.1 rating"
      ]
    },
    {
      "cell_type": "code",
      "execution_count": null,
      "id": "QDRVLSOH8Ykj",
      "metadata": {
        "id": "QDRVLSOH8Ykj"
      },
      "outputs": [],
      "source": [
        "# Before Cleaning\n",
        "print(\"Unique categories in feature : \",df_copy['rating'].unique())\n",
        "print(\"Number of Unique categories in feature : \",df_copy['rating'].nunique())\n",
        "print(\"Count of Unique categories in feature : \",df_copy['rating'].value_counts())"
      ]
    },
    {
      "cell_type": "code",
      "source": [
        "df_copy2 = df_copy.copy()"
      ],
      "metadata": {
        "id": "XpWzceqdnYKF"
      },
      "id": "XpWzceqdnYKF",
      "execution_count": null,
      "outputs": []
    },
    {
      "cell_type": "code",
      "execution_count": null,
      "id": "w9q6M00XW_HG",
      "metadata": {
        "id": "w9q6M00XW_HG"
      },
      "outputs": [],
      "source": [
        "df_copy2['rating'] = df_copy2['rating'].astype(str)\n",
        "df_copy2['rating'] = df_copy2['rating'].apply(lambda x: 'Given' if x.strip().isdigit() else 'Not given')\n",
        "print(df_copy2['rating'].value_counts())"
      ]
    },
    {
      "cell_type": "code",
      "execution_count": null,
      "id": "W3JpeG_q83tD",
      "metadata": {
        "id": "W3JpeG_q83tD"
      },
      "outputs": [],
      "source": [
        "# After Cleaning\n",
        "print(\"Unique categories in feature : \",df_copy['rating'].unique())\n",
        "print(\"Number of Unique categories in feature : \",df_copy['rating'].nunique())\n",
        "print(\"Count of Unique categories in feature : \",df_copy['rating'].value_counts())"
      ]
    },
    {
      "cell_type": "code",
      "source": [
        "print(df_copy['rating'].value_counts())\n",
        "print(df_copy['rating'].dtypes)"
      ],
      "metadata": {
        "id": "bNkYWWl0JmeI"
      },
      "id": "bNkYWWl0JmeI",
      "execution_count": null,
      "outputs": []
    },
    {
      "cell_type": "markdown",
      "id": "rNclkoTB9i8W",
      "metadata": {
        "id": "rNclkoTB9i8W"
      },
      "source": [
        "### 3.2.2 delivery_time"
      ]
    },
    {
      "cell_type": "code",
      "execution_count": null,
      "id": "20KzsMF89irb",
      "metadata": {
        "id": "20KzsMF89irb"
      },
      "outputs": [],
      "source": [
        "# Before Cleaning\n",
        "print(\"Unique categories in feature : \",df_copy['delivery_time'].unique())\n",
        "print(\"Number of Unique categories in feature : \",df_copy['delivery_time'].nunique())\n",
        "print(\"Count of Unique categories in feature : \",df_copy['delivery_time'].value_counts())"
      ]
    },
    {
      "cell_type": "code",
      "execution_count": null,
      "id": "sDmLfGRr96s9",
      "metadata": {
        "id": "sDmLfGRr96s9"
      },
      "outputs": [],
      "source": [
        "# Fetching the records where delivery_time is \"?\"\n",
        "df_copy[df_copy['delivery_time']=='?']"
      ]
    },
    {
      "cell_type": "code",
      "execution_count": null,
      "id": "TD7ckuQw96pt",
      "metadata": {
        "id": "TD7ckuQw96pt"
      },
      "outputs": [],
      "source": [
        "df_copy['delivery_time']=df_copy['delivery_time'].replace('?',df_copy['delivery_time'].mode()[0])"
      ]
    },
    {
      "cell_type": "code",
      "execution_count": null,
      "id": "bzxYD-hj-yZq",
      "metadata": {
        "id": "bzxYD-hj-yZq"
      },
      "outputs": [],
      "source": [
        "# After Cleaning\n",
        "print(\"Unique categories in feature : \",df_copy['delivery_time'].unique())\n",
        "print(\"Number of Unique categories in feature : \",df_copy['delivery_time'].nunique())\n",
        "print(\"Count of Unique categories in feature : \",df_copy['delivery_time'].value_counts())"
      ]
    },
    {
      "cell_type": "code",
      "execution_count": null,
      "id": "1a-11ubk_E-F",
      "metadata": {
        "id": "1a-11ubk_E-F"
      },
      "outputs": [],
      "source": [
        "df_copy['delivery_time'].value_counts()"
      ]
    },
    {
      "cell_type": "code",
      "execution_count": null,
      "id": "GFBXCFen_R0S",
      "metadata": {
        "id": "GFBXCFen_R0S"
      },
      "outputs": [],
      "source": [
        "df_copy[df_copy['delivery_time']=='?']"
      ]
    },
    {
      "cell_type": "markdown",
      "id": "065be1cc-1547-4700-a1fa-8452fc0f875d",
      "metadata": {
        "id": "065be1cc-1547-4700-a1fa-8452fc0f875d"
      },
      "source": [
        "#### 3.3 Missing values Treatment"
      ]
    },
    {
      "cell_type": "markdown",
      "id": "04fee582-0c22-468f-a087-efa79c0a6557",
      "metadata": {
        "id": "04fee582-0c22-468f-a087-efa79c0a6557"
      },
      "source": [
        "| Acronym  | Full Form                    | Meaning                                                                        | Bias Introduced | Example                                                                        |\n",
        "| -------- | ---------------------------- | ------------------------------------------------------------------------------ | --------------- | ------------------------------------------------------------------------------ |\n",
        "| **MCAR** | Missing Completely At Random | The missingness has **no relation** to any data, observed or missing.          | ❌ No            | A sensor randomly fails and misses temperature readings.                       |\n",
        "| **MAR**  | Missing At Random            | The missingness is **related to observed data**, not the missing value itself. | ✅ Yes (mild)    | People with higher incomes are less likely to report income, but age is known. |\n",
        "| **MNAR** | Missing Not At Random        | The missingness is related to the **missing value itself**.                    | ✅ High          | People with very low income tend to skip the income question.                  |\n"
      ]
    },
    {
      "cell_type": "markdown",
      "id": "4b90e896-7db7-4a89-8792-93f39a1842d5",
      "metadata": {
        "id": "4b90e896-7db7-4a89-8792-93f39a1842d5"
      },
      "source": [
        "##### Example\n",
        "| Name  | Age | Income |\n",
        "| ----- | --- | ------ |\n",
        "| Alice | 25  | 50k    |\n",
        "| Bob   | 30  | NaN    |\n",
        "| Carol | NaN | 70k    |\n",
        "| David | 40  | NaN    |\n"
      ]
    },
    {
      "cell_type": "markdown",
      "id": "717af4fd-535a-4510-8592-c0aac1538194",
      "metadata": {
        "id": "717af4fd-535a-4510-8592-c0aac1538194"
      },
      "source": [
        "* MCAR: Missing income for Bob and David is due to random system error.\n",
        "* MAR: Missing income depends on age (older people don't report income), but income itself doesn't influence missingness.\n",
        "* MNAR: Income is missing because it's very high or very low, and people choose not to report it."
      ]
    },
    {
      "cell_type": "markdown",
      "id": "5a75d2f0-9b1e-4295-8387-9743d202a4b9",
      "metadata": {
        "id": "5a75d2f0-9b1e-4295-8387-9743d202a4b9"
      },
      "source": [
        "| Type | Can You Impute?                           | Need Advanced Methods?                         |\n",
        "| ---- | ----------------------------------------- | ---------------------------------------------- |\n",
        "| MCAR | ✅ Yes (Mean/Median Imputation)            | ❌ No                                           |\n",
        "| MAR  | ✅ Yes (Advanced Imputers: KNN, Iterative) | ⚠️ Maybe                                       |\n",
        "| MNAR | ❌ Not reliably                            | ✅ Yes (Model-based or domain knowledge needed) |\n"
      ]
    },
    {
      "cell_type": "markdown",
      "id": "b56d969d-afde-48f4-89aa-6cadaa584dbd",
      "metadata": {
        "id": "b56d969d-afde-48f4-89aa-6cadaa584dbd"
      },
      "source": [
        "# Null values Treatment general guideline:\n",
        "* Check the datatype of feature:\n",
        "  * If datatype== Categorical ; replace null values with mode\n",
        "  * If datatype== Numerical:\n",
        "    * Check for outliers:\n",
        "      * If outliers are present; replace null values with median\n",
        "      * If outliers are NOT present; replace null values with mean"
      ]
    },
    {
      "cell_type": "code",
      "execution_count": null,
      "id": "c791b9d0-1567-4b6d-a863-3a2bdbdc426b",
      "metadata": {
        "id": "c791b9d0-1567-4b6d-a863-3a2bdbdc426b"
      },
      "outputs": [],
      "source": [
        "df.isnull().sum()"
      ]
    },
    {
      "cell_type": "code",
      "execution_count": null,
      "id": "53d0acac-96df-4bec-b5a7-1d3f12e2a34e",
      "metadata": {
        "id": "53d0acac-96df-4bec-b5a7-1d3f12e2a34e"
      },
      "outputs": [],
      "source": [
        "# Filling null values using fillna- cuisine_type, food_preparation_time"
      ]
    },
    {
      "cell_type": "code",
      "execution_count": null,
      "id": "ba5f24a8-c651-4f5a-90d7-584f5ab30456",
      "metadata": {
        "id": "ba5f24a8-c651-4f5a-90d7-584f5ab30456"
      },
      "outputs": [],
      "source": [
        "df_copy['cuisine_type'].mode()[0]"
      ]
    },
    {
      "cell_type": "code",
      "execution_count": null,
      "id": "kJ3zgXioBsGO",
      "metadata": {
        "id": "kJ3zgXioBsGO"
      },
      "outputs": [],
      "source": [
        "df_copy['cuisine_type'] = df_copy['cuisine_type'].fillna(df_copy['cuisine_type'].mode()[0])"
      ]
    },
    {
      "cell_type": "code",
      "execution_count": null,
      "id": "s6OfevT1s-L-",
      "metadata": {
        "id": "s6OfevT1s-L-"
      },
      "outputs": [],
      "source": [
        "df_copy['food_preparation_time'].mean()"
      ]
    },
    {
      "cell_type": "code",
      "execution_count": null,
      "id": "bLmpqkHhtCdF",
      "metadata": {
        "id": "bLmpqkHhtCdF"
      },
      "outputs": [],
      "source": [
        "df_copy['food_preparation_time'] = df_copy['food_preparation_time'].fillna(df_copy['food_preparation_time'].mean())"
      ]
    },
    {
      "cell_type": "code",
      "execution_count": null,
      "id": "twBbclWGtLTx",
      "metadata": {
        "id": "twBbclWGtLTx"
      },
      "outputs": [],
      "source": [
        "df_copy['delivery_time'].mode()[0]"
      ]
    },
    {
      "cell_type": "code",
      "execution_count": null,
      "id": "QECLFSJ6tSgJ",
      "metadata": {
        "id": "QECLFSJ6tSgJ"
      },
      "outputs": [],
      "source": [
        "df_copy['delivery_time'] = df_copy['delivery_time'].fillna(df_copy['delivery_time'].mode()[0])"
      ]
    },
    {
      "cell_type": "code",
      "execution_count": null,
      "id": "vAvy4VSctb_J",
      "metadata": {
        "id": "vAvy4VSctb_J"
      },
      "outputs": [],
      "source": [
        "df_copy.isnull().sum()"
      ]
    },
    {
      "cell_type": "code",
      "execution_count": null,
      "id": "54f78e06-2cd5-4add-a335-436c39f7ae0b",
      "metadata": {
        "id": "54f78e06-2cd5-4add-a335-436c39f7ae0b"
      },
      "outputs": [],
      "source": [
        "df_copy.to_csv('df_copy.csv', index=False)"
      ]
    },
    {
      "cell_type": "code",
      "execution_count": null,
      "id": "78qQLPp0VOUe",
      "metadata": {
        "id": "78qQLPp0VOUe"
      },
      "outputs": [],
      "source": [
        "sns.pointplot(data=df_copy, x='day_of_the_week',y=df_copy['delivery_time'].astype('int'));"
      ]
    },
    {
      "cell_type": "markdown",
      "id": "01d33b6f-119a-42a5-b396-0a4347938326",
      "metadata": {
        "id": "01d33b6f-119a-42a5-b396-0a4347938326"
      },
      "source": [
        "##### Other popular methods\n",
        "\n",
        "| Method                                 | Description                                              |\n",
        "| -------------------------------------- | -------------------------------------------------------- |\n",
        "| `ffill()` / `bfill()`                  | Forward or backward fill values                          |\n",
        "| Mode/Median Imputation                 | Use most frequent / median value                         |\n",
        "| KNN Imputer (`KNNImputer`)             | Predict null values using nearest neighbors              |\n",
        "| Iterative Imputer (`IterativeImputer`) | Uses regression models to predict missing values         |\n",
        "| Drop missing (`dropna`)                | Drop rows/columns with missing values (when appropriate) |\n",
        "| Domain-specific value                  | E.g., fill age with 0 only if 0 means \"unknown\"          |\n"
      ]
    },
    {
      "cell_type": "markdown",
      "id": "72daa0bc-688c-4b72-95c5-71a1f496e37a",
      "metadata": {
        "id": "72daa0bc-688c-4b72-95c5-71a1f496e37a"
      },
      "source": [
        "## 3.4 Outliers Treatment"
      ]
    },
    {
      "cell_type": "markdown",
      "id": "d74e2dc0-1320-4d82-9193-9df3dce2f8b7",
      "metadata": {
        "id": "d74e2dc0-1320-4d82-9193-9df3dce2f8b7"
      },
      "source": [
        "#### 1. Popular Methods for Outlier Detection & Treatment"
      ]
    },
    {
      "cell_type": "markdown",
      "id": "2183b554-ffb4-4e4b-9528-93df5c1b1a1c",
      "metadata": {
        "id": "2183b554-ffb4-4e4b-9528-93df5c1b1a1c"
      },
      "source": [
        "| Method                           | Type         | Handles   | Robustness  | When to Use                   |\n",
        "| -------------------------------- | ------------ | --------- | ----------- | ----------------------------- |\n",
        "| **IQR (Interquartile Range)**    | Univariate   | Numerical | ✅ Robust    | Simple, small-medium datasets |\n",
        "| **Z-Score**                      | Univariate   | Numerical | ❌ Sensitive | Normal-like distributions     |\n",
        "| **Percentile Capping**           | Univariate   | Numerical | ✅ Robust    | Quick wins, business rules    |\n",
        "| **Isolation Forest**             | Multivariate | Numerical | ✅ Good      | Large, high-dimensional data  |\n",
        "| **DBSCAN (Clustering)**          | Multivariate | All       | ✅ Moderate  | Cluster-shaped datasets       |\n",
        "| **Boxplots / Visual Inspection** | Univariate   | Numerical | Manual      | For EDA or small data         |\n",
        "| **LOF (Local Outlier Factor)**   | Multivariate | All       | ✅ High      | Density-based outliers        |\n"
      ]
    },
    {
      "cell_type": "code",
      "execution_count": null,
      "id": "b96717bb-58f2-474c-ba3c-1c83f7ddaa0f",
      "metadata": {
        "id": "b96717bb-58f2-474c-ba3c-1c83f7ddaa0f"
      },
      "outputs": [],
      "source": [
        "df_copy2= pd.read_csv('df_copy.csv')"
      ]
    },
    {
      "cell_type": "code",
      "execution_count": null,
      "id": "823c9ec8-9f78-4324-8353-84ea553a0f75",
      "metadata": {
        "id": "823c9ec8-9f78-4324-8353-84ea553a0f75"
      },
      "outputs": [],
      "source": [
        "for i in df_copy2.select_dtypes(['int','float']).columns:\n",
        "    plt.figure(figsize=(5,3))\n",
        "    sns.boxplot(data=df_copy2,x=i);"
      ]
    },
    {
      "cell_type": "code",
      "execution_count": null,
      "id": "e6255822-90bb-4952-823d-cc4c8d75f180",
      "metadata": {
        "id": "e6255822-90bb-4952-823d-cc4c8d75f180"
      },
      "outputs": [],
      "source": [
        "# A.IQR Method (Interquartile Range)\n",
        "Q1 = df_copy2['cost_of_the_order'].quantile(0.25)\n",
        "Q3 = df_copy2['cost_of_the_order'].quantile(0.75)\n",
        "IQR = Q3 - Q1\n",
        "# Define bounds\n",
        "lower = Q1 - 1.5 * IQR\n",
        "upper = Q3 + 1.5 * IQR\n",
        "median = df_copy2['cost_of_the_order'].median()\n",
        "lower,upper"
      ]
    },
    {
      "cell_type": "code",
      "execution_count": null,
      "id": "64d1b5c4-2a3f-47e3-8e05-86fb279540f5",
      "metadata": {
        "id": "64d1b5c4-2a3f-47e3-8e05-86fb279540f5"
      },
      "outputs": [],
      "source": [
        "# Filter out outliers\n",
        "df_copy2[(df_copy2['cost_of_the_order'] <= lower) | (df_copy2['cost_of_the_order'] >= upper)]"
      ]
    },
    {
      "cell_type": "code",
      "execution_count": null,
      "id": "e694b4d3-1372-49a2-a15f-0111ef9958d4",
      "metadata": {
        "id": "e694b4d3-1372-49a2-a15f-0111ef9958d4"
      },
      "outputs": [],
      "source": [
        "df_copy2['cost_of_the_order'].quantile(0.99)"
      ]
    },
    {
      "cell_type": "code",
      "execution_count": null,
      "id": "2776008d-2959-4d90-a766-63b57f1eb659",
      "metadata": {
        "id": "2776008d-2959-4d90-a766-63b57f1eb659"
      },
      "outputs": [],
      "source": [
        "df_copy2['cost_of_the_order'].describe()"
      ]
    },
    {
      "cell_type": "code",
      "execution_count": null,
      "id": "7d6d7a17-a063-4446-bfa2-3a11ad736057",
      "metadata": {
        "id": "7d6d7a17-a063-4446-bfa2-3a11ad736057"
      },
      "outputs": [],
      "source": [
        "df_copy2['cost_of_the_order'] =np.where(df_copy2['cost_of_the_order']<= lower,df_copy2['cost_of_the_order'].median(),df_copy2['cost_of_the_order'])\n",
        "df_copy2['cost_of_the_order'] =np.where(df_copy2['cost_of_the_order']>= upper,df_copy2['cost_of_the_order'].median(),df_copy2['cost_of_the_order'])"
      ]
    },
    {
      "cell_type": "code",
      "execution_count": null,
      "id": "87070869-32bb-4004-a3f4-ab1132b1685f",
      "metadata": {
        "id": "87070869-32bb-4004-a3f4-ab1132b1685f"
      },
      "outputs": [],
      "source": [
        "df_copy2[(df_copy2['cost_of_the_order'] <= lower) | (df_copy2['cost_of_the_order'] >= upper)]"
      ]
    },
    {
      "cell_type": "code",
      "execution_count": null,
      "id": "OKY3mZncEPyl",
      "metadata": {
        "id": "OKY3mZncEPyl"
      },
      "outputs": [],
      "source": [
        "df_copy2['cost_of_the_order'] = np.where(df_copy2['cost_of_the_order'] <= lower, median, df_copy2['cost_of_the_order'])\n"
      ]
    },
    {
      "cell_type": "code",
      "execution_count": null,
      "id": "be0dbf63-7cad-487f-9fca-e04afe7f0c68",
      "metadata": {
        "id": "be0dbf63-7cad-487f-9fca-e04afe7f0c68"
      },
      "outputs": [],
      "source": [
        "df_copy2['rating'].describe()"
      ]
    },
    {
      "cell_type": "code",
      "execution_count": null,
      "id": "36f8c885-57bd-4e66-9d6a-547e4e4e9414",
      "metadata": {
        "id": "36f8c885-57bd-4e66-9d6a-547e4e4e9414"
      },
      "outputs": [],
      "source": [
        "df_copy2['rating'] =np.where(df_copy2['rating']==0,df_copy2['rating'].mode()[0],df_copy2['rating'])"
      ]
    },
    {
      "cell_type": "code",
      "execution_count": null,
      "id": "530d6be9-632e-41b1-b617-b322daf699dd",
      "metadata": {
        "id": "530d6be9-632e-41b1-b617-b322daf699dd"
      },
      "outputs": [],
      "source": [
        "df_copy2.to_csv('df_copy3.csv', index=False)"
      ]
    },
    {
      "cell_type": "code",
      "execution_count": null,
      "id": "i3Bm9mU7U9mC",
      "metadata": {
        "id": "i3Bm9mU7U9mC"
      },
      "outputs": [],
      "source": [
        "sns.barplot(data=df_copy2, x='rating',y='delivery_time');"
      ]
    },
    {
      "cell_type": "markdown",
      "id": "0b807742-6fbc-4419-992d-01b796e4c77c",
      "metadata": {
        "id": "0b807742-6fbc-4419-992d-01b796e4c77c"
      },
      "source": [
        "##### Comparison Summary\n",
        "| Method           | Speed     | Interpretability | Works on Multivariate | Scikit-learn Support |\n",
        "| ---------------- | --------- | ---------------- | --------------------- | -------------------- |\n",
        "| IQR              | ✅ Fast    | ✅ Easy           | ❌ No                  | ❌ No                 |\n",
        "| Z-Score          | ✅ Fast    | ✅ Easy           | ❌ No                  | ❌ No                 |\n",
        "| Winsorization    | ✅ Fast    | ✅ Easy           | ❌ No                  | ❌ No (in `scipy`)    |\n",
        "| Isolation Forest | ⚠️ Slower | ✅ Moderate       | ✅ Yes                 | ✅ Yes                |\n",
        "| LOF              | ⚠️ Slower | ⚠️ Hard          | ✅ Yes                 | ✅ Yes                |\n"
      ]
    },
    {
      "cell_type": "markdown",
      "id": "7b1f2a10-dcfb-48d8-a8d2-5d479a026e7e",
      "metadata": {
        "id": "7b1f2a10-dcfb-48d8-a8d2-5d479a026e7e"
      },
      "source": [
        "## 3.5 Encoding\n",
        "\n",
        "Encoding is the process of converting categorical variables (text labels or categories) into a numerical format, so they can be used in machine learning models (which require numerical input).\n",
        "\n",
        "Types of Categorical Variables\n",
        "* Nominal – No natural order. E.g., Gender, Color, Country\n",
        "* Ordinal – Has a meaningful order. E.g., Size (Small < Medium < Large), Rating (Low < Medium < High)"
      ]
    },
    {
      "cell_type": "code",
      "execution_count": null,
      "id": "19f31e78-03b8-4d24-b8f5-7b5bf2e27176",
      "metadata": {
        "id": "19f31e78-03b8-4d24-b8f5-7b5bf2e27176"
      },
      "outputs": [],
      "source": [
        "df_3= pd.read_csv('df_copy3.csv')"
      ]
    },
    {
      "cell_type": "code",
      "source": [
        "df_copy2['cuisine_type'] = df_copy2['cuisine_type'].astype('category').cat.codes"
      ],
      "metadata": {
        "id": "T5WDBHdoVGWA"
      },
      "id": "T5WDBHdoVGWA",
      "execution_count": null,
      "outputs": []
    },
    {
      "cell_type": "code",
      "source": [
        "df_3.head()"
      ],
      "metadata": {
        "id": "eshydkQqC4IF"
      },
      "id": "eshydkQqC4IF",
      "execution_count": null,
      "outputs": []
    },
    {
      "cell_type": "code",
      "execution_count": null,
      "id": "49f637d7-d7a6-42a9-befa-0222e15eb67f",
      "metadata": {
        "id": "49f637d7-d7a6-42a9-befa-0222e15eb67f"
      },
      "outputs": [],
      "source": [
        "cat_variables= df_3.select_dtypes('object')\n",
        "num_variables= df_3.select_dtypes(['int','float'])"
      ]
    },
    {
      "cell_type": "code",
      "execution_count": null,
      "id": "4c6d89ac-39c2-4313-9259-40183ccf2333",
      "metadata": {
        "id": "4c6d89ac-39c2-4313-9259-40183ccf2333"
      },
      "outputs": [],
      "source": [
        "cat_variables.columns"
      ]
    },
    {
      "cell_type": "code",
      "execution_count": null,
      "id": "8dd2a203-ad1e-4bcf-bc7a-872b95c2cc48",
      "metadata": {
        "id": "8dd2a203-ad1e-4bcf-bc7a-872b95c2cc48"
      },
      "outputs": [],
      "source": [
        "cat_variables.head(3)"
      ]
    },
    {
      "cell_type": "markdown",
      "source": [
        "##Nominal encoding"
      ],
      "metadata": {
        "id": "iehPAL_tvA3J"
      },
      "id": "iehPAL_tvA3J"
    },
    {
      "cell_type": "code",
      "execution_count": null,
      "id": "KWYv7iCkUB21",
      "metadata": {
        "id": "KWYv7iCkUB21"
      },
      "outputs": [],
      "source": [
        "# 2. Nominal encoding\n",
        "nominal_features=['cuisine_type','day_of_the_week']\n",
        "for i in nominal_features:\n",
        "    print(i,\";\")\n",
        "    print(pd.Categorical(cat_variables[i],ordered= False))\n",
        "    print(pd.Categorical(cat_variables[i],ordered= False).codes)\n",
        "    print('----------------------------------------')\n",
        "    cat_variables[i]=pd.Categorical(cat_variables[i],ordered= False).codes"
      ]
    },
    {
      "cell_type": "code",
      "source": [
        "cat_variables.head()"
      ],
      "metadata": {
        "id": "_MqfDxsDDmxC"
      },
      "id": "_MqfDxsDDmxC",
      "execution_count": null,
      "outputs": []
    },
    {
      "cell_type": "code",
      "execution_count": null,
      "id": "tez3rd0Le-eR",
      "metadata": {
        "id": "tez3rd0Le-eR"
      },
      "outputs": [],
      "source": [
        "# 3. One Hot encoding\n",
        "cat_variables_encoded= pd.get_dummies(cat_variables, columns=['rating'], dtype=int)\n",
        "df_encoded=pd.concat([num_variables,cat_variables_encoded], axis=1,)\n",
        "df_encoded.head()"
      ]
    },
    {
      "cell_type": "code",
      "execution_count": null,
      "id": "tK52JPbPT6EY",
      "metadata": {
        "id": "tK52JPbPT6EY"
      },
      "outputs": [],
      "source": [
        "df_encoded.head()"
      ]
    },
    {
      "cell_type": "code",
      "execution_count": null,
      "id": "UX_HQGz1v7ZN",
      "metadata": {
        "id": "UX_HQGz1v7ZN"
      },
      "outputs": [],
      "source": [
        "cat_variables['day_of_the_week'].value_counts()"
      ]
    },
    {
      "cell_type": "code",
      "execution_count": null,
      "id": "Ec1jySOzpsXm",
      "metadata": {
        "id": "Ec1jySOzpsXm"
      },
      "outputs": [],
      "source": [
        "cat_variables['cuisine_type'].value_counts()"
      ]
    },
    {
      "cell_type": "code",
      "execution_count": null,
      "id": "Uv50hfdQNkca",
      "metadata": {
        "id": "Uv50hfdQNkca"
      },
      "outputs": [],
      "source": [
        "df_encoded.to_csv('df_encoded', index=False)"
      ]
    },
    {
      "cell_type": "code",
      "source": [
        "df_encoded.head()"
      ],
      "metadata": {
        "id": "Atd8pdcwwY5T"
      },
      "id": "Atd8pdcwwY5T",
      "execution_count": null,
      "outputs": []
    },
    {
      "cell_type": "markdown",
      "id": "78a42d19-23e1-4823-99ce-132d2fbb752f",
      "metadata": {
        "id": "78a42d19-23e1-4823-99ce-132d2fbb752f"
      },
      "source": [
        "##### Common encoding techniques:\n",
        "| Encoding Method      | Type of Data | Pros                  | Cons                             |\n",
        "| -------------------- | ------------ | --------------------- | -------------------------------- |\n",
        "| Label Encoding       | Ordinal      | Simple                | Imposes order on nominal data    |\n",
        "| One-Hot Encoding     | Nominal      | No order imposed      | High dimensionality              |\n",
        "| Ordinal Encoding     | Ordinal      | Preserves order       | You must define the order        |\n",
        "| Frequency Encoding   | Nominal      | Simple, compact       | May mislead the model            |\n",
        "| Target/Mean Encoding | Nominal      | Can boost performance | Risk of overfitting/data leakage |\n"
      ]
    },
    {
      "cell_type": "markdown",
      "id": "9220fd95-26ae-4d1b-b072-19d18c5c890a",
      "metadata": {
        "id": "9220fd95-26ae-4d1b-b072-19d18c5c890a"
      },
      "source": [
        "#### Difference in `pd.Categorical` technique and Sklearn's `LabelEncoder` / `OrdinalEncoder`\n",
        "| Feature                    | `pd.Categorical`      | `LabelEncoder` / `OrdinalEncoder` |\n",
        "| -------------------------- | --------------------- | --------------------------------- |\n",
        "| Built into Pandas          | ✅ Yes                 | ❌ No                              |\n",
        "| Easy for quick exploration | ✅ Very                | ➖ Slightly more verbose           |\n",
        "| Custom category ordering   | ✅ Yes                 | ✅ Yes                             |\n",
        "| Part of sklearn pipelines  | ❌ Not natively        | ✅ Integrates well                 |\n",
        "| Handles unknown values     | ❌ Fails or assigns -1 | ✅ Can handle with parameters      |\n"
      ]
    },
    {
      "cell_type": "markdown",
      "id": "7c174440-c48d-4492-b2e8-852308c08405",
      "metadata": {
        "id": "7c174440-c48d-4492-b2e8-852308c08405"
      },
      "source": [
        "## 3.6 Train Test Split (Required when building model for predictions)\n",
        "#### What is train_test_split?\n",
        "train_test_split is a function from scikit-learn used to split your dataset into two parts:\n",
        "\n",
        "Training set – to train the model\n",
        "\n",
        "Validation set – to evaluate the model's performance\n",
        "\n",
        "#### Why is it required?\n",
        "When building machine learning models, we train the model on one portion of the data and test it on unseen data to check how well it generalizes.\n",
        "\n",
        "This prevents overfitting and gives a fair estimate of model accuracy."
      ]
    },
    {
      "cell_type": "code",
      "execution_count": null,
      "id": "0c4857eb-3ff9-4f79-9dcb-62aba49b8cdb",
      "metadata": {
        "id": "0c4857eb-3ff9-4f79-9dcb-62aba49b8cdb"
      },
      "outputs": [],
      "source": [
        "df_TrainTestSplit= pd.read_csv('df_encoded')"
      ]
    },
    {
      "cell_type": "code",
      "execution_count": null,
      "id": "1a221339-c973-46f8-9c04-0fece484ddc7",
      "metadata": {
        "id": "1a221339-c973-46f8-9c04-0fece484ddc7"
      },
      "outputs": [],
      "source": [
        "df_TrainTestSplit.head()"
      ]
    },
    {
      "cell_type": "markdown",
      "id": "e0e21faf-b41a-40cb-aca9-fdcdad253528",
      "metadata": {
        "id": "e0e21faf-b41a-40cb-aca9-fdcdad253528"
      },
      "source": [
        "#### Separating Features and Target"
      ]
    },
    {
      "cell_type": "code",
      "execution_count": null,
      "id": "f43a14d6-6c39-49b4-86d8-69b2f49223e2",
      "metadata": {
        "id": "f43a14d6-6c39-49b4-86d8-69b2f49223e2"
      },
      "outputs": [],
      "source": [
        "X = df_TrainTestSplit.drop('delivery_time', axis=1)\n",
        "y = df_TrainTestSplit['delivery_time']"
      ]
    },
    {
      "cell_type": "code",
      "execution_count": null,
      "id": "4c7228d6-52be-452e-8d26-854560267042",
      "metadata": {
        "id": "4c7228d6-52be-452e-8d26-854560267042"
      },
      "outputs": [],
      "source": [
        "X.head()"
      ]
    },
    {
      "cell_type": "code",
      "execution_count": null,
      "id": "8dedad86-2d25-4c83-863c-3d3a9314ffe9",
      "metadata": {
        "id": "8dedad86-2d25-4c83-863c-3d3a9314ffe9"
      },
      "outputs": [],
      "source": [
        "y"
      ]
    },
    {
      "cell_type": "code",
      "execution_count": null,
      "id": "9a34dfdd-a295-4ffc-be67-cbaa08d8ef3b",
      "metadata": {
        "id": "9a34dfdd-a295-4ffc-be67-cbaa08d8ef3b"
      },
      "outputs": [],
      "source": [
        "from sklearn.model_selection import train_test_split\n",
        "X_train, X_val, y_train, y_val = train_test_split(X, y,test_size=0.2,random_state=20)"
      ]
    },
    {
      "cell_type": "code",
      "execution_count": null,
      "id": "665a2fe6-cb5d-4eca-925a-a282c8ce1a27",
      "metadata": {
        "id": "665a2fe6-cb5d-4eca-925a-a282c8ce1a27"
      },
      "outputs": [],
      "source": [
        "X_train.head()"
      ]
    },
    {
      "cell_type": "markdown",
      "id": "12625a72-87b8-40d3-93ed-398f664c6853",
      "metadata": {
        "id": "12625a72-87b8-40d3-93ed-398f664c6853"
      },
      "source": [
        "## 3.7 Scaling\n",
        "* Why Feature Scaling is Important:\n",
        "\n",
        "Many machine learning algorithms (like KNN, SVM, Gradient Descent-based models, Neural Networks) compute distances or rely on the magnitude of features. If one feature has a large range and another has a small range, the model might become biased toward the feature with the larger range."
      ]
    },
    {
      "cell_type": "code",
      "execution_count": null,
      "id": "4089efde-322c-42de-8c0b-1c0c0c2cf2b1",
      "metadata": {
        "id": "4089efde-322c-42de-8c0b-1c0c0c2cf2b1"
      },
      "outputs": [],
      "source": [
        "X_train.columns"
      ]
    },
    {
      "cell_type": "code",
      "execution_count": null,
      "id": "02kU-xr0OGTR",
      "metadata": {
        "id": "02kU-xr0OGTR"
      },
      "outputs": [],
      "source": [
        "cat_cols=['cuisine_type','rating_3', 'rating_4', 'rating_5', 'rating_Not given','day_of_the_week']\n",
        "num_cols= ['cost_of_the_order', 'food_preparation_time']"
      ]
    },
    {
      "cell_type": "markdown",
      "source": [
        "###1. Min-Max Scaling"
      ],
      "metadata": {
        "id": "LbGtPtpXxbpG"
      },
      "id": "LbGtPtpXxbpG"
    },
    {
      "cell_type": "code",
      "execution_count": null,
      "id": "26a64c77-a709-4bc3-bb8a-854b80a18528",
      "metadata": {
        "id": "26a64c77-a709-4bc3-bb8a-854b80a18528"
      },
      "outputs": [],
      "source": [
        "# 1. Min-Max Scaling\n",
        "from sklearn.preprocessing import MinMaxScaler\n",
        "MMscaler = MinMaxScaler()\n",
        "Xtrain_scaled_MinMax = MMscaler.fit_transform(X_train[num_cols])\n",
        "Xval_scaled_MinMax = MMscaler.transform(X_val[num_cols])"
      ]
    },
    {
      "cell_type": "code",
      "execution_count": null,
      "id": "7665b726-838e-4212-83e6-e53f0bd90688",
      "metadata": {
        "id": "7665b726-838e-4212-83e6-e53f0bd90688"
      },
      "outputs": [],
      "source": [
        "Xtrain_scaled_MinMax=pd.DataFrame(Xtrain_scaled_MinMax,columns=X_train[num_cols].columns)\n",
        "Xval_scaled_MinMax=pd.DataFrame(Xval_scaled_MinMax,columns=X_val[num_cols].columns)"
      ]
    },
    {
      "cell_type": "code",
      "execution_count": null,
      "id": "047dbecd-26d3-4bf8-9c2c-80058131cded",
      "metadata": {
        "id": "047dbecd-26d3-4bf8-9c2c-80058131cded"
      },
      "outputs": [],
      "source": [
        "Xtrain_scaled_MinMax.head(2)"
      ]
    },
    {
      "cell_type": "markdown",
      "source": [
        "##2. Z-score Scaling (standardization)"
      ],
      "metadata": {
        "id": "9d0fAGlZxrKK"
      },
      "id": "9d0fAGlZxrKK"
    },
    {
      "cell_type": "code",
      "execution_count": null,
      "id": "ccbe27fd-0527-4583-b9dd-c37f3d95f68b",
      "metadata": {
        "id": "ccbe27fd-0527-4583-b9dd-c37f3d95f68b"
      },
      "outputs": [],
      "source": [
        "# 2. z-score Scaling (standardization)\n",
        "from sklearn.preprocessing import StandardScaler\n",
        "SSscaler = StandardScaler()\n",
        "Xtrain_scaled_StandardScalar = SSscaler.fit_transform(X_train[num_cols])\n",
        "Xval_scaled_StandardScalar = SSscaler.transform(X_val[num_cols])"
      ]
    },
    {
      "cell_type": "code",
      "execution_count": null,
      "id": "8d5ce052-0e56-4d92-8388-4ade2cdb3f6e",
      "metadata": {
        "id": "8d5ce052-0e56-4d92-8388-4ade2cdb3f6e"
      },
      "outputs": [],
      "source": [
        "Xtrain_scaled_StandardScalar=pd.DataFrame(Xtrain_scaled_StandardScalar,columns=X_train[num_cols].columns)\n",
        "Xval_scaled_StandardScalar=pd.DataFrame(Xval_scaled_StandardScalar,columns=X_val[num_cols].columns)"
      ]
    },
    {
      "cell_type": "code",
      "execution_count": null,
      "id": "97cdac67-ef7c-475d-8e99-ae09dce2ca98",
      "metadata": {
        "id": "97cdac67-ef7c-475d-8e99-ae09dce2ca98"
      },
      "outputs": [],
      "source": [
        "Xtrain_scaled_StandardScalar.head()"
      ]
    },
    {
      "cell_type": "code",
      "execution_count": null,
      "id": "avuzJuASoFyD",
      "metadata": {
        "id": "avuzJuASoFyD"
      },
      "outputs": [],
      "source": [
        "cat_cols = [col for col in cat_cols if col in X_train.columns]\n"
      ]
    },
    {
      "cell_type": "code",
      "execution_count": null,
      "id": "0a23d68e-278f-4e4a-9d72-3b99a372eff5",
      "metadata": {
        "id": "0a23d68e-278f-4e4a-9d72-3b99a372eff5"
      },
      "outputs": [],
      "source": [
        "scaled_train=pd.concat([Xtrain_scaled_StandardScalar,X_train[cat_cols]],axis=1)\n",
        "scaled_test=pd.concat([Xval_scaled_StandardScalar,X_val[cat_cols]],axis=1)"
      ]
    },
    {
      "cell_type": "code",
      "execution_count": null,
      "id": "IuloWJygoRJa",
      "metadata": {
        "id": "IuloWJygoRJa"
      },
      "outputs": [],
      "source": [
        "round(Xtrain_scaled_StandardScalar.describe(),2)"
      ]
    },
    {
      "cell_type": "code",
      "execution_count": null,
      "id": "UPLSMMy7oXbF",
      "metadata": {
        "id": "UPLSMMy7oXbF"
      },
      "outputs": [],
      "source": [
        "X_train[num_cols].head(2)"
      ]
    },
    {
      "cell_type": "code",
      "execution_count": null,
      "id": "n_iVWS7iociS",
      "metadata": {
        "id": "n_iVWS7iociS"
      },
      "outputs": [],
      "source": [
        "Xtrain_scaled_StandardScalar.head(2)"
      ]
    },
    {
      "cell_type": "code",
      "execution_count": null,
      "id": "amQlQMjXooEl",
      "metadata": {
        "id": "amQlQMjXooEl"
      },
      "outputs": [],
      "source": [
        "Xtrain_scaled_StandardScalar.shape"
      ]
    },
    {
      "cell_type": "code",
      "execution_count": null,
      "id": "uS9gMF0KooBV",
      "metadata": {
        "id": "uS9gMF0KooBV"
      },
      "outputs": [],
      "source": [
        "X_train[cat_cols].shape"
      ]
    },
    {
      "cell_type": "code",
      "execution_count": null,
      "id": "fViTUzwsozTa",
      "metadata": {
        "id": "fViTUzwsozTa"
      },
      "outputs": [],
      "source": [
        "X_train[cat_cols].reset_index(drop=True)"
      ]
    },
    {
      "cell_type": "code",
      "execution_count": null,
      "id": "CkmxvX85ozQG",
      "metadata": {
        "id": "CkmxvX85ozQG"
      },
      "outputs": [],
      "source": [
        "scaled_train=pd.concat([Xtrain_scaled_StandardScalar,X_train[cat_cols].reset_index(drop=True)],axis=1)\n",
        "scaled_test=pd.concat([Xval_scaled_StandardScalar,X_val[cat_cols].reset_index(drop=True)],axis=1)"
      ]
    },
    {
      "cell_type": "code",
      "execution_count": null,
      "id": "e94c4cd2-cb7d-4082-9d26-77771a51a9cc",
      "metadata": {
        "id": "e94c4cd2-cb7d-4082-9d26-77771a51a9cc"
      },
      "outputs": [],
      "source": [
        "scaled_train.to_csv('Scaled_data_train')\n",
        "scaled_test.to_csv('Scaled_data_val')"
      ]
    },
    {
      "cell_type": "markdown",
      "id": "ac44d043-bfc5-480b-8d77-86b422c9f27b",
      "metadata": {
        "id": "ac44d043-bfc5-480b-8d77-86b422c9f27b"
      },
      "source": [
        "#### Summary Table of most popular methods;\n",
        "| Method          | Range    | Affected by Outliers | Use Case                            |\n",
        "| --------------- | -------- | -------------------- | ----------------------------------- |\n",
        "| Min-Max Scaling | \\[0, 1]  | ✅ Yes                | Image data, bounded values          |\n",
        "| Standardization | \\~N(0,1) | ❌ Less               | Linear models, SVM, Neural Networks |\n",
        "| Robust Scaling  | Depends  | ❌ No                 | Data with outliers                  |\n",
        "| MaxAbs Scaling  | \\[-1, 1] | ❌ Less               | Sparse data (e.g., NLP features)    |\n"
      ]
    },
    {
      "cell_type": "markdown",
      "id": "07NUxdR4pGoJ",
      "metadata": {
        "id": "07NUxdR4pGoJ"
      },
      "source": []
    },
    {
      "cell_type": "markdown",
      "id": "1ffb0167",
      "metadata": {
        "id": "1ffb0167"
      },
      "source": [
        "# 4-Model Building (Regression), Evaluation & Tuning\n",
        "\n",
        "### 4.1 Regression algorithms\n",
        "    * Linear Regression\n",
        "    * KNN\n",
        "    * Decision Trees (CART)\n",
        "    * Random Forest\n",
        "    * Boosting\n",
        "        * Adaboost,\n",
        "        * Gboost,\n",
        "        * XGboost\n",
        "### 4.2 Model Evaluation: Regression metrics: R² & RMSE\n",
        "1. R-squared (R²) — Coefficient of Determination\n",
        "    * What it means:\n",
        "        * Measures how well the model explains the variability in the target variable.\n",
        "        * Value lies between 0 and 1 (can be negative if model performs worse than the mean).\n",
        "    * Interpretation:\n",
        "        * R² = 1 → perfect prediction\n",
        "        * R² = 0 → model is no better than the average\n",
        "        * Higher is better\n",
        "          ![image.png](attachment:e23679fd-3fe1-4ef2-b9e9-1dfed173e585.png)\n",
        "\n",
        "2. RMSE — Root Mean Squared Error\n",
        "    * What it means:\n",
        "        * Measures average prediction error in the same units as the target variable.\n",
        "        * It gives more weight to larger errors.\n",
        "    * Interpretation:\n",
        "        * Lower is better\n",
        "        * Easy to interpret because it’s in the same unit as\n",
        "          ![image.png](attachment:65110f95-03fd-4549-be04-631970e6b345.png)\n",
        "### 4.3 Model Tuning\n",
        "    * GridSearchCV\n",
        "    * Hyper Parameter Tuning\n"
      ]
    },
    {
      "cell_type": "code",
      "execution_count": null,
      "id": "ffb74750",
      "metadata": {
        "id": "ffb74750"
      },
      "outputs": [],
      "source": [
        "import pandas as pd\n",
        "import numpy as np\n",
        "from sklearn.model_selection import train_test_split\n",
        "from sklearn.preprocessing import StandardScaler\n",
        "from sklearn.metrics import mean_squared_error, r2_score\n",
        "from sklearn.linear_model import LinearRegression\n",
        "from sklearn.neighbors import KNeighborsRegressor\n",
        "from sklearn.tree import DecisionTreeRegressor\n",
        "from sklearn.ensemble import RandomForestRegressor, AdaBoostRegressor, GradientBoostingRegressor\n",
        "# pip install xgboost\n",
        "from xgboost import XGBRegressor"
      ]
    },
    {
      "cell_type": "code",
      "source": [
        "# loading the encoded data\n",
        "df_TrainTestSplit= pd.read_csv('df_encoded')\n",
        "\n",
        "#seperating the target variable from rest of the data\n",
        "X = df_TrainTestSplit.drop('delivery_time', axis=1)\n",
        "y = df_TrainTestSplit['delivery_time']\n",
        "\n",
        "# Splitting the data into train & validation set\n",
        "X_train, X_val, y_train, y_val = train_test_split(X, y,test_size=0.2,random_state=20)\n",
        "\n",
        "cat_cols=['cuisine_type','rating_3', 'rating_4', 'rating_5', 'rating_Not given','day_of_the_week']\n",
        "num_cols= ['cost_of_the_order', 'food_preparation_time']\n",
        "\n",
        "from sklearn.preprocessing import StandardScaler\n",
        "SSscaler = StandardScaler()\n",
        "Xtrain_scaled_StandardScalar = SSscaler.fit_transform(X_train[num_cols])\n",
        "Xval_scaled_StandardScalar = SSscaler.transform(X_val[num_cols])\n",
        "\n",
        "Xtrain_scaled_StandardScalar=pd.DataFrame(Xtrain_scaled_StandardScalar,columns=X_train[num_cols].columns)\n",
        "Xval_scaled_StandardScalar=pd.DataFrame(Xval_scaled_StandardScalar,columns=X_val[num_cols].columns)\n",
        "\n",
        "scaled_train=pd.concat([Xtrain_scaled_StandardScalar,X_train[cat_cols].reset_index(drop=True)],axis=1)\n",
        "scaled_val=pd.concat([Xval_scaled_StandardScalar,X_val[cat_cols].reset_index(drop=True)],axis=1)"
      ],
      "metadata": {
        "id": "8slzEecPjqlc"
      },
      "id": "8slzEecPjqlc",
      "execution_count": null,
      "outputs": []
    },
    {
      "cell_type": "code",
      "execution_count": null,
      "id": "304102fc-6d73-4c31-b7a5-e9b7ce8875f0",
      "metadata": {
        "id": "304102fc-6d73-4c31-b7a5-e9b7ce8875f0"
      },
      "outputs": [],
      "source": [
        "# loading the datasets\n",
        "df_TrainTestSplit= pd.read_csv('df_encoded')\n",
        "X = df_TrainTestSplit.drop('delivery_time', axis=1)\n",
        "y = df_TrainTestSplit['delivery_time']\n",
        "X_train, X_val, y_train, y_val = train_test_split(X, y,test_size=0.2,random_state=20)\n",
        "x_trainFinal= pd.read_csv('Scaled_data_train')\n",
        "x_valFinal= pd.read_csv('Scaled_data_val')"
      ]
    },
    {
      "cell_type": "code",
      "source": [
        "# Building a Linear regression model\n",
        "LR = LinearRegression()\n",
        "LR.fit(scaled_train,y_train)\n",
        "\n",
        "y_train_pred = LR.predict(scaled_train)\n",
        "y_val_pred = LR.predict(scaled_val)\n",
        "\n",
        "rmse_train = np.sqrt(mean_squared_error(y_train, y_train_pred))\n",
        "r2_train = r2_score(y_train, y_train_pred)\n",
        "\n",
        "rmse_val = np.sqrt(mean_squared_error(y_val, y_val_pred))\n",
        "r2_val = r2_score(y_val, y_val_pred)\n",
        "\n",
        "print(\"Train RMSE\",rmse_train,\"| Train R2\",r2_train)\n",
        "print('Test RMSE',rmse_val,'| Test R2',r2_val)"
      ],
      "metadata": {
        "id": "uP6AzgpTk412"
      },
      "id": "uP6AzgpTk412",
      "execution_count": null,
      "outputs": []
    },
    {
      "cell_type": "code",
      "source": [
        "# Building a knn model\n",
        "knn = KNeighborsRegressor()\n",
        "knn.fit(scaled_train,y_train)\n",
        "y_train_pred = knn.predict(scaled_train)\n",
        "y_val_pred = knn.predict(scaled_val)\n",
        "rmse_train = np.sqrt(mean_squared_error(y_train, y_train_pred))\n",
        "r2_train = r2_score(y_train, y_train_pred)\n",
        "rmse_val = np.sqrt(mean_squared_error(y_val, y_val_pred))\n",
        "r2_val = r2_score(y_val, y_val_pred)\n",
        "print(\"Train RMSE\",rmse_train,\"| Train R2\",r2_train)\n",
        "print('Test RMSE',rmse_val,'| Test R2',r2_val)"
      ],
      "metadata": {
        "id": "kANnJOARk8_2"
      },
      "id": "kANnJOARk8_2",
      "execution_count": null,
      "outputs": []
    },
    {
      "cell_type": "code",
      "source": [
        "models = {\n",
        "    \"Linear Regression\": LinearRegression(),\n",
        "    \"KNN\": KNeighborsRegressor(),\n",
        "    \"Decision Tree\": DecisionTreeRegressor(),\n",
        "    \"Random Forest\": RandomForestRegressor(),\n",
        "    \"AdaBoost\": AdaBoostRegressor(),\n",
        "    \"Gradient Boosting\": GradientBoostingRegressor(),\n",
        "    \"XGBoost\": XGBRegressor()\n",
        "}\n",
        "results = []\n",
        "for name, model in models.items():\n",
        "    model.fit(scaled_train, y_train)\n",
        "\n",
        "    # Predictions\n",
        "    y_train_pred = model.predict(scaled_train)\n",
        "    y_val_pred = model.predict(scaled_val)\n",
        "\n",
        "    # Metrics\n",
        "    rmse_train = np.sqrt(mean_squared_error(y_train, y_train_pred))\n",
        "    r2_train = r2_score(y_train, y_train_pred)\n",
        "\n",
        "    rmse_val = np.sqrt(mean_squared_error(y_val, y_val_pred))\n",
        "    r2_val = r2_score(y_val, y_val_pred)\n",
        "\n",
        "    # Store result\n",
        "    results.append({\n",
        "        \"Model\": name,\n",
        "        \"Train_RMSE\": rmse_train,\n",
        "        \"Train_R²\": r2_train,\n",
        "        \"Val_RMSE\": rmse_val,\n",
        "        \"Val_R²\": r2_val\n",
        "    })\n",
        "\n",
        "# Convert to DataFrame\n",
        "results_df = pd.DataFrame(results)\n",
        "\n",
        "# Show results sorted by Validation RMSE\n",
        "results_df"
      ],
      "metadata": {
        "id": "LMaGHBxNlGLD"
      },
      "id": "LMaGHBxNlGLD",
      "execution_count": null,
      "outputs": []
    },
    {
      "cell_type": "code",
      "execution_count": null,
      "id": "ncgEyS5lpheh",
      "metadata": {
        "id": "ncgEyS5lpheh"
      },
      "outputs": [],
      "source": [
        "knn = KNeighborsRegressor()"
      ]
    },
    {
      "cell_type": "code",
      "execution_count": null,
      "id": "b8ec3d2f-1c14-4e31-8a05-5f6226b2bbe1",
      "metadata": {
        "id": "b8ec3d2f-1c14-4e31-8a05-5f6226b2bbe1"
      },
      "outputs": [],
      "source": [
        "from sklearn.model_selection import cross_val_score, KFold\n",
        "cv = KFold(n_splits=5, shuffle=True, random_state=42)\n",
        "\n",
        "# Store results\n",
        "results = []\n",
        "\n",
        "for name, model in models.items():\n",
        "    # Cross-validation scores (negative RMSE)\n",
        "    neg_mse_scores = cross_val_score(model, scaled_train, y_train, scoring='neg_root_mean_squared_error', cv=cv)\n",
        "    r2_scores = cross_val_score(model, scaled_train, y_train, scoring='r2', cv=cv)\n",
        "\n",
        "    cv_rmse_mean = -np.mean(neg_mse_scores)\n",
        "    cv_r2_mean = np.mean(r2_scores)\n",
        "\n",
        "    # Train model on full training data\n",
        "    model.fit(scaled_train, y_train)\n",
        "\n",
        "    # Predict on validation set\n",
        "    y_val_pred = model.predict(scaled_val)\n",
        "\n",
        "    val_rmse = np.sqrt(mean_squared_error(y_val, y_val_pred))\n",
        "    val_r2 = r2_score(y_val, y_val_pred)\n",
        "\n",
        "    results.append({\n",
        "        \"Model\": name,\n",
        "        \"CV_RMSE_(Train)\": cv_rmse_mean,\n",
        "        \"Val_RMSE\": val_rmse,\n",
        "        \"CV_R²_(Train)\": cv_r2_mean,\n",
        "        \"Val_R²\": val_r2\n",
        "    })\n",
        "\n",
        "# Display final results\n",
        "results_df = pd.DataFrame(results)\n",
        "results_df"
      ]
    },
    {
      "cell_type": "code",
      "execution_count": null,
      "id": "xCNXMYpW6MW3",
      "metadata": {
        "id": "xCNXMYpW6MW3"
      },
      "outputs": [],
      "source": [
        "from sklearn.linear_model import Ridge\n",
        "from sklearn.model_selection import GridSearchCV\n",
        "from sklearn.metrics import mean_squared_error, r2_score\n",
        "import numpy as np\n",
        "\n",
        "# Define the model\n",
        "ridge_model = Ridge()\n",
        "\n",
        "# Define hyperparameter grid for Ridge\n",
        "param_grid = {\n",
        "    \"alpha\": [0.001, 0.01, 0.1, 1, 10, 100]  # Regularization strength\n",
        "}\n",
        "\n",
        "# GridSearchCV setup\n",
        "grid_search = GridSearchCV(\n",
        "    estimator=ridge_model,\n",
        "    param_grid=param_grid,\n",
        "    scoring='neg_root_mean_squared_error',\n",
        "    cv=5,\n",
        "    n_jobs=-1,\n",
        "    verbose=1\n",
        ")\n",
        "\n",
        "# Fit on training data\n",
        "grid_search.fit(scaled_train, y_train)\n",
        "\n",
        "# Best model and parameters\n",
        "best_ridge = grid_search.best_estimator_\n",
        "best_params = grid_search.best_params_\n",
        "\n",
        "# Train performance\n",
        "y_train_pred = best_ridge.predict(scaled_train)\n",
        "train_rmse = np.sqrt(mean_squared_error(y_train, y_train_pred))\n",
        "train_r2 = r2_score(y_train, y_train_pred)\n",
        "\n",
        "# Validation performance\n",
        "y_val_pred = best_ridge.predict(scaled_val)\n",
        "val_rmse = np.sqrt(mean_squared_error(y_val, y_val_pred))\n",
        "val_r2 = r2_score(y_val, y_val_pred)\n",
        "\n",
        "# Print results\n",
        "print(\"Best Hyperparameters for Ridge Regression:\")\n",
        "print(best_params)\n",
        "\n",
        "print(\"\\nPerformance Metrics:\")\n",
        "print(f\"Train RMSE: {train_rmse:.4f}\")\n",
        "print(f\"Train R²   : {train_r2:.4f}\")\n",
        "print(f\"Val RMSE   : {val_rmse:.4f}\")\n",
        "print(f\"Val R²     : {val_r2:.4f}\")\n"
      ]
    },
    {
      "cell_type": "code",
      "execution_count": null,
      "id": "9bfcb927-3254-4a1c-917d-0a7e689f196c",
      "metadata": {
        "id": "9bfcb927-3254-4a1c-917d-0a7e689f196c"
      },
      "outputs": [],
      "source": [
        "# Define model\n",
        "xgb_model = XGBRegressor(objective='reg:squarederror', random_state=42)\n",
        "\n",
        "# Define parameter grid\n",
        "param_grid_xgb = {\n",
        "    'n_estimators': [50, 100],\n",
        "    'learning_rate': [0.05, 0.1, 0.2],\n",
        "    'max_depth': [3, 5, 7]\n",
        "}\n",
        "\n",
        "# Grid search\n",
        "grid_xgb = GridSearchCV(\n",
        "    estimator=xgb_model,\n",
        "    param_grid=param_grid_xgb,\n",
        "    scoring='neg_root_mean_squared_error',\n",
        "    cv=5,\n",
        "    n_jobs=-1,\n",
        "    verbose=1\n",
        ")\n",
        "\n",
        "# Fit model\n",
        "grid_xgb.fit(scaled_train, y_train)\n",
        "\n",
        "# Best model and params\n",
        "best_xgb = grid_xgb.best_estimator_\n",
        "best_xgb_params = grid_xgb.best_params_\n",
        "\n",
        "# Train evaluation\n",
        "y_train_pred = best_xgb.predict(scaled_train)\n",
        "train_rmse = np.sqrt(mean_squared_error(y_train, y_train_pred))\n",
        "train_r2 = r2_score(y_train, y_train_pred)\n",
        "\n",
        "# Validation evaluation\n",
        "y_val_pred = best_xgb.predict(scaled_val)\n",
        "val_rmse = np.sqrt(mean_squared_error(y_val, y_val_pred))\n",
        "val_r2 = r2_score(y_val, y_val_pred)\n",
        "\n",
        "# Output\n",
        "print(\" Best Hyperparameters for XGBoost:\")\n",
        "print(best_xgb_params)\n",
        "\n",
        "print(\"\\n XGBoost Performance:\")\n",
        "print(f\"Train RMSE: {train_rmse:.4f}\")\n",
        "print(f\"Train R²   : {train_r2:.4f}\")\n",
        "print(f\"Val RMSE   : {val_rmse:.4f}\")\n",
        "print(f\"Val R²     : {val_r2:.4f}\")\n"
      ]
    },
    {
      "cell_type": "markdown",
      "id": "8ebaf67c",
      "metadata": {
        "id": "8ebaf67c"
      },
      "source": [
        "# 5-Model Building (Classification), Evaluation & Tuning\n",
        "* Data splitting\n",
        "* Classification algorithms\n",
        "    * Logistic Regression\n",
        "    * Naive Bayes, KNN\n",
        "    * Decision Trees (CART)\n",
        "    * Random Forest\n",
        "    * Boosting - Adaboost, Gboost, XGboost\n",
        "* Model Evaluation\n",
        "    * Classification metrics:Accuracy, Precision, Recall, F1-score, Confusion matrix,ROC Curve, AUC\n",
        "* Model Tuning\n",
        "    * GridSearchCV\n",
        "    * RandomSearchCV"
      ]
    },
    {
      "cell_type": "code",
      "source": [
        "df_3= pd.read_csv('df_copy3.csv')"
      ],
      "metadata": {
        "id": "bXUcQHw5Ff75"
      },
      "id": "bXUcQHw5Ff75",
      "execution_count": null,
      "outputs": []
    },
    {
      "cell_type": "code",
      "source": [
        "df_3.head()"
      ],
      "metadata": {
        "id": "0xuIvW-jFf4f"
      },
      "id": "0xuIvW-jFf4f",
      "execution_count": null,
      "outputs": []
    },
    {
      "cell_type": "code",
      "source": [
        "import pandas as pd\n",
        "import numpy as np\n",
        "from sklearn.model_selection import train_test_split\n",
        "from sklearn.preprocessing import StandardScaler, LabelEncoder\n",
        "from sklearn.metrics import classification_report,confusion_matrix, accuracy_score, precision_score,recall_score, f1_score,roc_auc_score\n",
        "from sklearn.linear_model import LogisticRegression\n",
        "from sklearn.naive_bayes import GaussianNB\n",
        "from sklearn.neighbors import KNeighborsClassifier\n",
        "from sklearn.tree import DecisionTreeClassifier\n",
        "from sklearn.ensemble import RandomForestClassifier,AdaBoostClassifier,GradientBoostingClassifier\n",
        "from xgboost import XGBClassifier\n",
        "import matplotlib.pyplot as plt"
      ],
      "metadata": {
        "id": "HSB5rUSK4dE4"
      },
      "id": "HSB5rUSK4dE4",
      "execution_count": null,
      "outputs": []
    },
    {
      "cell_type": "code",
      "source": [
        "# Load the cleaned dataset\n",
        "df = pd.read_csv(\"df_copy3.csv\")"
      ],
      "metadata": {
        "id": "CurAKb_54g-q"
      },
      "id": "CurAKb_54g-q",
      "execution_count": null,
      "outputs": []
    },
    {
      "cell_type": "code",
      "source": [
        "df['rating'] = df['rating'].astype(str)\n",
        "df['rating'] = df['rating'].apply(lambda x: 'Given' if x.strip().isdigit() else 'Not given')"
      ],
      "metadata": {
        "id": "qlrhKjG44lbP"
      },
      "id": "qlrhKjG44lbP",
      "execution_count": null,
      "outputs": []
    },
    {
      "cell_type": "code",
      "source": [
        "# Encode target\n",
        "le = LabelEncoder()\n",
        "df['rating'] = le.fit_transform(df['rating'])"
      ],
      "metadata": {
        "id": "Vn8VNfmS4obS"
      },
      "id": "Vn8VNfmS4obS",
      "execution_count": null,
      "outputs": []
    },
    {
      "cell_type": "code",
      "source": [
        "df = df.drop(columns=['delivery_time'])"
      ],
      "metadata": {
        "id": "qLZDelmJ4s4D"
      },
      "id": "qLZDelmJ4s4D",
      "execution_count": null,
      "outputs": []
    },
    {
      "cell_type": "code",
      "source": [
        "X = df.drop('rating', axis=1)\n",
        "y = df['rating']"
      ],
      "metadata": {
        "id": "jYeIodxa4_hR"
      },
      "id": "jYeIodxa4_hR",
      "execution_count": null,
      "outputs": []
    },
    {
      "cell_type": "code",
      "source": [
        "#Split data\n",
        "X_train, X_val, y_train, y_val = train_test_split(X, y, test_size=0.2, random_state=20)"
      ],
      "metadata": {
        "id": "nK6W0m7S4w1p"
      },
      "id": "nK6W0m7S4w1p",
      "execution_count": null,
      "outputs": []
    },
    {
      "cell_type": "code",
      "source": [
        "X_train = pd.get_dummies(X_train)\n",
        "X_val = pd.get_dummies(X_val)\n",
        "X_train, X_val = X_train.align(X_val, join='left', axis=1, fill_value=0)"
      ],
      "metadata": {
        "id": "jopLoY8d5GML"
      },
      "id": "jopLoY8d5GML",
      "execution_count": null,
      "outputs": []
    },
    {
      "cell_type": "code",
      "source": [
        "num_cols = ['cost_of_the_order', 'food_preparation_time']\n",
        "scaler = StandardScaler()\n",
        "X_train[num_cols] = scaler.fit_transform(X_train[num_cols])\n",
        "X_val[num_cols] = scaler.transform(X_val[num_cols])"
      ],
      "metadata": {
        "id": "Eb3LK4QX5LJo"
      },
      "id": "Eb3LK4QX5LJo",
      "execution_count": null,
      "outputs": []
    },
    {
      "cell_type": "code",
      "source": [
        "models = {\n",
        "    \"Logistic Regression\": LogisticRegression(max_iter=1000, class_weight='balanced'),\n",
        "    \"Random Forest\": RandomForestClassifier(random_state=42, class_weight='balanced'),\n",
        "    \"XGBoost\": XGBClassifier(use_label_encoder=False, eval_metric='logloss', scale_pos_weight=1.4)\n",
        "}\n",
        "\n",
        "# 8. Evaluate models\n",
        "for name, model in models.items():\n",
        "    print(f\"\\nModel: {name}\")\n",
        "    model.fit(X_train, y_train)\n",
        "    y_pred = model.predict(X_val)\n",
        "    y_proba = model.predict_proba(X_val)[:, 1]\n",
        "\n",
        "    print(\"Classification Report:\")\n",
        "    print(classification_report(y_val, y_pred, target_names=[\"Not Given\", \"Given\"]))\n",
        "\n",
        "    print(f\" ROC AUC Score: {roc_auc_score(y_val, y_proba):.4f}\")\n"
      ],
      "metadata": {
        "id": "0slQ32hsBg2h"
      },
      "id": "0slQ32hsBg2h",
      "execution_count": null,
      "outputs": []
    },
    {
      "cell_type": "markdown",
      "source": [
        "##Conclusion\n",
        "* We attempted to classify whether users gave a rating after placing an order using various machine learning models (Logistic Regression, Random Forest, XGBoost). Despite extensive preprocessing and balancing, the models performed poorly (AUC ~0.5), indicating the available features are not predictive enough for user behavior like rating.\n",
        "* Ratings may depend more on subjective factors (taste, delivery quality, user mood) not captured in this dataset. Therefore, classification results are weak."
      ],
      "metadata": {
        "id": "-HQDQjSiCfjo"
      },
      "id": "-HQDQjSiCfjo"
    },
    {
      "cell_type": "code",
      "source": [],
      "metadata": {
        "id": "YJ-lyv_wEs52"
      },
      "id": "YJ-lyv_wEs52",
      "execution_count": null,
      "outputs": []
    }
  ],
  "metadata": {
    "colab": {
      "provenance": []
    },
    "kernelspec": {
      "display_name": "Python [conda env:base] *",
      "language": "python",
      "name": "conda-base-py"
    },
    "language_info": {
      "codemirror_mode": {
        "name": "ipython",
        "version": 3
      },
      "file_extension": ".py",
      "mimetype": "text/x-python",
      "name": "python",
      "nbconvert_exporter": "python",
      "pygments_lexer": "ipython3",
      "version": "3.12.7"
    }
  },
  "nbformat": 4,
  "nbformat_minor": 5
}